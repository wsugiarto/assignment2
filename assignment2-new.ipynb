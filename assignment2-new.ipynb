{
 "cells": [
  {
   "cell_type": "code",
   "execution_count": 6,
   "metadata": {},
   "outputs": [],
   "source": [
    "import gzip\n",
    "from collections import defaultdict\n",
    "import math\n",
    "import scipy.optimize\n",
    "from sklearn import svm\n",
    "import numpy as np\n",
    "import string\n",
    "import random\n",
    "import string\n",
    "from sklearn import linear_model\n",
    "import pandas as pd\n",
    "from sklearn.metrics import accuracy_score, mean_squared_error\n",
    "import json\n",
    "import ast\n",
    "import re\n",
    "from surprise import Dataset, Reader, SVD\n",
    "from surprise.model_selection import train_test_split\n",
    "from surprise.model_selection import GridSearchCV\n"
   ]
  },
  {
   "cell_type": "code",
   "execution_count": 7,
   "metadata": {},
   "outputs": [],
   "source": [
    "# data_list = []\n",
    "\n",
    "# # Path to the file\n",
    "# file_path = 'goodreads_reviews_children.json.gz'\n",
    "\n",
    "# with gzip.open(file_path, 'rt', encoding='utf-8') as file:\n",
    "#     for line in file:\n",
    "#         try:\n",
    "#             # Safely evaluate each line as a dictionary\n",
    "#             data_list.append(ast.literal_eval(line.strip()))\n",
    "#         except Exception as e:\n",
    "#             print(f\"Error processing line: {line}\\n{e}\")\n",
    "\n",
    "# # Display the first 5 entries to verify\n"
   ]
  },
  {
   "cell_type": "code",
   "execution_count": 8,
   "metadata": {},
   "outputs": [],
   "source": [
    "data = []\n",
    "file_path = 'renttherunway_final_data.json.gz'\n",
    "with gzip.open(file_path, 'rt', encoding='utf-8') as file:\n",
    "    for line in file:\n",
    "        try:\n",
    "            data.append(json.loads(line.strip()))\n",
    "        except Exception as e:\n",
    "            print(f\"Error processing line: {line}\\n{e}\")\n",
    "\n",
    "uir_data = [entry for entry in data\n",
    "            if all(field in entry and entry[field] for field in ['rating', 'user_id', 'item_id'])]\n",
    "svd_data = [\n",
    "    (d['user_id'], d['item_id'], int(d['rating'])) \n",
    "    for d in uir_data if 'user_id' in d and 'item_id' in d and 'rating' in d\n",
    "]\n"
   ]
  },
  {
   "cell_type": "code",
   "execution_count": 9,
   "metadata": {},
   "outputs": [
    {
     "name": "stdout",
     "output_type": "stream",
     "text": [
      "192544\n"
     ]
    },
    {
     "data": {
      "text/plain": [
       "{'fit': 'fit',\n",
       " 'user_id': '420272',\n",
       " 'bust size': '34d',\n",
       " 'item_id': '2260466',\n",
       " 'weight': '137lbs',\n",
       " 'rating': '10',\n",
       " 'rented for': 'vacation',\n",
       " 'review_text': \"An adorable romper! Belt and zipper were a little hard to navigate in a full day of wear/bathroom use, but that's to be expected. Wish it had pockets, but other than that-- absolutely perfect! I got a million compliments.\",\n",
       " 'body type': 'hourglass',\n",
       " 'review_summary': 'So many compliments!',\n",
       " 'category': 'romper',\n",
       " 'height': '5\\' 8\"',\n",
       " 'size': 14,\n",
       " 'age': '28',\n",
       " 'review_date': 'April 20, 2016'}"
      ]
     },
     "execution_count": 9,
     "metadata": {},
     "output_type": "execute_result"
    }
   ],
   "source": [
    "print(len(data))\n",
    "data[0]"
   ]
  },
  {
   "cell_type": "code",
   "execution_count": 10,
   "metadata": {},
   "outputs": [],
   "source": [
    "data = [\n",
    "    entry for entry in data\n",
    "    if all(field in entry and entry[field] for field in ['rating', 'review_text', 'review_summary', 'size', 'age', 'review_date', 'rented for'])\n",
    "]\n"
   ]
  },
  {
   "cell_type": "code",
   "execution_count": 11,
   "metadata": {},
   "outputs": [
    {
     "name": "stdout",
     "output_type": "stream",
     "text": [
      "190971\n"
     ]
    }
   ],
   "source": [
    "print(len(data))\n"
   ]
  },
  {
   "cell_type": "code",
   "execution_count": 12,
   "metadata": {},
   "outputs": [],
   "source": [
    "def MSE(y, ypred):\n",
    "    diffs = [(a-b)**2 for (a,b) in zip(y,ypred)]\n",
    "    return sum(diffs) / len(diffs)"
   ]
  },
  {
   "cell_type": "code",
   "execution_count": 13,
   "metadata": {},
   "outputs": [],
   "source": [
    "def feat1(d):\n",
    "    return [1, len(d['review_text'])] "
   ]
  },
  {
   "cell_type": "code",
   "execution_count": 14,
   "metadata": {},
   "outputs": [],
   "source": [
    "\n",
    "dataTrain = data[:int(len(data)*0.8)]\n",
    "dataTest = data[int(len(data)*0.8):]"
   ]
  },
  {
   "cell_type": "code",
   "execution_count": 15,
   "metadata": {},
   "outputs": [],
   "source": [
    "Xtrain = [feat1(d) for d in dataTrain]\n",
    "ytrain = [int(d['rating']) for d in dataTrain]\n",
    "Xtest = [feat1(d) for d in dataTest]\n",
    "ytest = [int(d['rating']) for d in dataTest]"
   ]
  },
  {
   "cell_type": "code",
   "execution_count": 16,
   "metadata": {},
   "outputs": [
    {
     "name": "stdout",
     "output_type": "stream",
     "text": [
      "{'8', '6', '2', '10', '4'} {'wedding', 'date', 'everyday', 'party', 'vacation', 'other', 'party: cocktail', 'formal affair', 'work'}\n"
     ]
    }
   ],
   "source": [
    "unique_ratings = set(entry['rating'] for entry in data if 'rating' in entry)\n",
    "unique_rent = set(entry['rented for'] for entry in data if 'rented for' in entry)\n",
    "print(unique_ratings, unique_rent)"
   ]
  },
  {
   "cell_type": "code",
   "execution_count": 17,
   "metadata": {},
   "outputs": [
    {
     "data": {
      "text/plain": [
       "{'10', '2', '4', '6', '8'}"
      ]
     },
     "execution_count": 17,
     "metadata": {},
     "output_type": "execute_result"
    }
   ],
   "source": [
    "unique_ratings = set(entry['rating'] for entry in data if 'rating' in entry)\n",
    "unique_ratings"
   ]
  },
  {
   "cell_type": "code",
   "execution_count": null,
   "metadata": {},
   "outputs": [],
   "source": [
    "def feat1(d):\n",
    "    return [1, len(d['review_text'])] "
   ]
  },
  {
   "cell_type": "code",
   "execution_count": null,
   "metadata": {},
   "outputs": [],
   "source": [
    "Xtrain = [feat1(d) for d in dataTrain]\n",
    "ytrain = [int(d['rating']) for d in dataTrain]\n",
    "Xtest = [feat1(d) for d in dataTest]\n",
    "ytest = [int(d['rating']) for d in dataTest]"
   ]
  },
  {
   "cell_type": "code",
   "execution_count": 18,
   "metadata": {},
   "outputs": [
    {
     "data": {
      "text/plain": [
       "2.0509410951628015"
      ]
     },
     "execution_count": 18,
     "metadata": {},
     "output_type": "execute_result"
    }
   ],
   "source": [
    "mod = linear_model.LinearRegression(fit_intercept=False)\n",
    "mod.fit(Xtrain,ytrain)\n",
    "predictions = mod.predict(Xtest)\n",
    "mse = MSE(ytest, predictions)\n",
    "mse\n"
   ]
  },
  {
   "cell_type": "code",
   "execution_count": 19,
   "metadata": {},
   "outputs": [],
   "source": [
    "def feat2(d):\n",
    "    return [1, len(d['review_text']), len(d['review_summary'])] "
   ]
  },
  {
   "cell_type": "code",
   "execution_count": 20,
   "metadata": {},
   "outputs": [
    {
     "data": {
      "text/plain": [
       "2.043165781399794"
      ]
     },
     "execution_count": 20,
     "metadata": {},
     "output_type": "execute_result"
    }
   ],
   "source": [
    "Xtrain = [feat2(d) for d in dataTrain]\n",
    "Xtest = [feat2(d) for d in dataTest]\n",
    "mod = linear_model.LinearRegression(fit_intercept=False)\n",
    "mod.fit(Xtrain,ytrain)\n",
    "predictions = mod.predict(Xtest)\n",
    "mse = MSE(ytest, predictions)\n",
    "mse\n"
   ]
  },
  {
   "cell_type": "code",
   "execution_count": 21,
   "metadata": {},
   "outputs": [],
   "source": [
    "def feat3(d):\n",
    "    return [1, len(d['review_text']), len(d['review_summary']), d['review_text'].count('!') + d['review_summary'].count('!')] "
   ]
  },
  {
   "cell_type": "code",
   "execution_count": 22,
   "metadata": {},
   "outputs": [
    {
     "data": {
      "text/plain": [
       "1.9290804311924041"
      ]
     },
     "execution_count": 22,
     "metadata": {},
     "output_type": "execute_result"
    }
   ],
   "source": [
    "Xtrain = [feat3(d) for d in dataTrain]\n",
    "Xtest = [feat3(d) for d in dataTest]\n",
    "mod = linear_model.LinearRegression(fit_intercept=False)\n",
    "mod.fit(Xtrain,ytrain)\n",
    "predictions = mod.predict(Xtest)\n",
    "mse = MSE(ytest, predictions)\n",
    "mse"
   ]
  },
  {
   "cell_type": "code",
   "execution_count": 23,
   "metadata": {},
   "outputs": [],
   "source": [
    "def feat4(d):\n",
    "    return [1, d['review_text'].count('!') + d['review_summary'].count('!')] "
   ]
  },
  {
   "cell_type": "code",
   "execution_count": 24,
   "metadata": {},
   "outputs": [
    {
     "data": {
      "text/plain": [
       "1.948420335125565"
      ]
     },
     "execution_count": 24,
     "metadata": {},
     "output_type": "execute_result"
    }
   ],
   "source": [
    "Xtrain = [feat4(d) for d in dataTrain]\n",
    "Xtest = [feat4(d) for d in dataTest]\n",
    "mod = linear_model.LinearRegression(fit_intercept=False)\n",
    "mod.fit(Xtrain,ytrain)\n",
    "predictions = mod.predict(Xtest)\n",
    "mse = MSE(ytest, predictions)\n",
    "mse"
   ]
  },
  {
   "cell_type": "code",
   "execution_count": 25,
   "metadata": {},
   "outputs": [],
   "source": [
    "def feat5(d):\n",
    "    return [1, len(d['review_text']), \n",
    "            len(d['review_summary']), \n",
    "            d['review_text'].count('!') + d['review_summary'].count('!'),\n",
    "            int(d['age']),\n",
    "            ] "
   ]
  },
  {
   "cell_type": "code",
   "execution_count": 26,
   "metadata": {},
   "outputs": [
    {
     "data": {
      "text/plain": [
       "1.9287141659151328"
      ]
     },
     "execution_count": 26,
     "metadata": {},
     "output_type": "execute_result"
    }
   ],
   "source": [
    "Xtrain = [feat5(d) for d in dataTrain]\n",
    "Xtest = [feat5(d) for d in dataTest]\n",
    "mod = linear_model.LinearRegression(fit_intercept=False)\n",
    "mod.fit(Xtrain,ytrain)\n",
    "predictions = mod.predict(Xtest)\n",
    "mse = MSE(ytest, predictions)\n",
    "mse"
   ]
  },
  {
   "cell_type": "code",
   "execution_count": 27,
   "metadata": {},
   "outputs": [],
   "source": [
    "def feat(d):\n",
    "    return [1, len(d['review_text']), \n",
    "            len(d['review_summary']), \n",
    "            d['review_text'].count('!') + d['review_summary'].count('!'),\n",
    "            int(d['age']),\n",
    "            int(d['size'])\n",
    "            ] "
   ]
  },
  {
   "cell_type": "code",
   "execution_count": 28,
   "metadata": {},
   "outputs": [
    {
     "data": {
      "text/plain": [
       "1.9252668614896955"
      ]
     },
     "execution_count": 28,
     "metadata": {},
     "output_type": "execute_result"
    }
   ],
   "source": [
    "Xtrain = [feat(d) for d in dataTrain]\n",
    "Xtest = [feat(d) for d in dataTest]\n",
    "mod = linear_model.LinearRegression(fit_intercept=False)\n",
    "mod.fit(Xtrain,ytrain)\n",
    "predictions = mod.predict(Xtest)\n",
    "mse = MSE(ytest, predictions)\n",
    "mse"
   ]
  },
  {
   "cell_type": "code",
   "execution_count": 29,
   "metadata": {},
   "outputs": [
    {
     "data": {
      "text/plain": [
       "1.91424095555222"
      ]
     },
     "execution_count": 29,
     "metadata": {},
     "output_type": "execute_result"
    }
   ],
   "source": [
    "def feat(d):\n",
    "    return [1, len(d['review_text']), \n",
    "            len(d['review_summary']), \n",
    "            d['review_text'].count('!') + d['review_summary'].count('!'),\n",
    "            int(d['age']),\n",
    "            int(d['size']),\n",
    "            int(d['review_date'][-4:])\n",
    "            ] \n",
    "Xtrain = [feat(d) for d in dataTrain]\n",
    "Xtest = [feat(d) for d in dataTest]\n",
    "mod = linear_model.LinearRegression(fit_intercept=False)\n",
    "mod.fit(Xtrain,ytrain)\n",
    "predictions = mod.predict(Xtest)\n",
    "mse = MSE(ytest, predictions)\n",
    "mse\n"
   ]
  },
  {
   "cell_type": "code",
   "execution_count": 30,
   "metadata": {},
   "outputs": [
    {
     "data": {
      "text/plain": [
       "1.9142409555522135"
      ]
     },
     "execution_count": 30,
     "metadata": {},
     "output_type": "execute_result"
    }
   ],
   "source": [
    "def feat(d):\n",
    "    age = int(d['age'])\n",
    "    size = int(d['size'])\n",
    "    \n",
    "    return [1, len(d['review_text']), \n",
    "            len(d['review_summary']), \n",
    "            d['review_text'].count('!') + d['review_summary'].count('!'),\n",
    "            int(d['review_date'][-4:]),\n",
    "            age,\n",
    "            size\n",
    "            ] \n",
    "Xtrain = [feat(d) for d in dataTrain]\n",
    "Xtest = [feat(d) for d in dataTest]\n",
    "mod = linear_model.LinearRegression(fit_intercept=False)\n",
    "mod.fit(Xtrain,ytrain)\n",
    "predictions = mod.predict(Xtest)\n",
    "mse = MSE(ytest, predictions)\n",
    "mse"
   ]
  },
  {
   "cell_type": "code",
   "execution_count": 31,
   "metadata": {},
   "outputs": [
    {
     "data": {
      "text/plain": [
       "1.9148641067333887"
      ]
     },
     "execution_count": 31,
     "metadata": {},
     "output_type": "execute_result"
    }
   ],
   "source": [
    "def feat(d):\n",
    "    age = int(d['age'])\n",
    "    size = int(d['size'])\n",
    "    age_size_interaction = age * size\n",
    "    return [1, len(d['review_text']), \n",
    "            len(d['review_summary']), \n",
    "            d['review_text'].count('!') + d['review_summary'].count('!'),\n",
    "            int(d['review_date'][-4:]),\n",
    "            age_size_interaction\n",
    "            ] \n",
    "Xtrain = [feat(d) for d in dataTrain]\n",
    "Xtest = [feat(d) for d in dataTest]\n",
    "mod = linear_model.LinearRegression(fit_intercept=False)\n",
    "mod.fit(Xtrain,ytrain)\n",
    "predictions = mod.predict(Xtest)\n",
    "mse = MSE(ytest, predictions)\n",
    "mse"
   ]
  },
  {
   "cell_type": "code",
   "execution_count": 32,
   "metadata": {},
   "outputs": [
    {
     "data": {
      "text/plain": [
       "1.838722954905515"
      ]
     },
     "execution_count": 32,
     "metadata": {},
     "output_type": "execute_result"
    }
   ],
   "source": [
    "def feat(d):\n",
    "    age = int(d['age'])\n",
    "    size = int(d['size'])\n",
    "    age_size_interaction = age * size\n",
    "    sentiment_words = ['love', 'hate', 'perfect', 'amazing', 'awful', 'good', 'bad']\n",
    "    sentiment_count = sum(d['review_text'].lower().count(word) + d['review_summary'].lower().count(word) for word in sentiment_words)\n",
    "    return [1, len(d['review_text']), \n",
    "            len(d['review_summary']), \n",
    "            d['review_text'].count('!') + d['review_summary'].count('!'),\n",
    "            int(d['review_date'][-4:]),\n",
    "            age_size_interaction,\n",
    "            sentiment_count\n",
    "            ] \n",
    "Xtrain = [feat(d) for d in dataTrain]\n",
    "Xtest = [feat(d) for d in dataTest]\n",
    "mod = linear_model.LinearRegression(fit_intercept=False)\n",
    "mod.fit(Xtrain,ytrain)\n",
    "predictions = mod.predict(Xtest)\n",
    "mse = MSE(ytest, predictions)\n",
    "mse\n"
   ]
  },
  {
   "cell_type": "code",
   "execution_count": 44,
   "metadata": {},
   "outputs": [
    {
     "data": {
      "text/plain": [
       "1.8279770862346172"
      ]
     },
     "execution_count": 44,
     "metadata": {},
     "output_type": "execute_result"
    }
   ],
   "source": [
    "rented_for_categories = ['date', 'party', 'formal affair', 'everyday', 'other', 'wedding', 'vacation', 'party: cocktail', 'work']\n",
    "\n",
    "def feat(d):\n",
    "    age = int(d['age'])\n",
    "    size = int(d['size'])\n",
    "    age_size_interaction = age * size\n",
    "    sentiment_words = ['love', 'hate', 'perfect', 'amazing', 'awful', 'good', 'bad']\n",
    "    sentiment_count = sum(d['review_text'].lower().count(word) + d['review_summary'].lower().count(word) for word in sentiment_words)\n",
    "    unique_words = len(set(re.findall(r'\\w+', d['review_text'] + \" \" + d['review_summary'])))\n",
    "    rented_for_encoded = [1 if d.get('rented for', '').lower() == category else 0 for category in rented_for_categories]\n",
    "    return [1, len(d['review_text']), \n",
    "            len(d['review_summary']), \n",
    "            d['review_text'].count('!') + d['review_summary'].count('!'),\n",
    "            int(d['review_date'][-4:]),\n",
    "            age_size_interaction,\n",
    "            sentiment_count,\n",
    "            ] + rented_for_encoded\n",
    "Xtrain = [feat(d) for d in dataTrain]\n",
    "Xtest = [feat(d) for d in dataTest]\n",
    "mod = linear_model.LinearRegression(fit_intercept=False)\n",
    "mod.fit(Xtrain,ytrain)\n",
    "predictions = mod.predict(Xtest)\n",
    "mse = MSE(ytest, predictions)\n",
    "mse"
   ]
  },
  {
   "cell_type": "code",
   "execution_count": 34,
   "metadata": {},
   "outputs": [
    {
     "data": {
      "text/plain": [
       "1.761240801167964"
      ]
     },
     "execution_count": 34,
     "metadata": {},
     "output_type": "execute_result"
    }
   ],
   "source": [
    "\n",
    "def feat(d):\n",
    "    age = int(d['age'])\n",
    "    size = int(d['size'])\n",
    "    age_size_interaction = age * size\n",
    "    sentiment_words = ['love', 'hate', 'perfect', 'amazing', 'awful', 'good', 'bad']\n",
    "    sentiment_count = sum(d['review_text'].lower().count(word) + d['review_summary'].lower().count(word) for word in sentiment_words)\n",
    "    unique_words = len(set(re.findall(r'\\w+', d['review_text'] + \" \" + d['review_summary'])))\n",
    "    contains_recommend = 1 if 'recommend' in d['review_text'].lower() or 'recommend' in d['review_summary'].lower() else 0\n",
    "\n",
    "    positive_words = [\n",
    "        \"comfortable\", \"perfect\", \"stylish\", \"fashionable\", \"elegant\", \"cute\", \"fit\",\n",
    "        \"love\", \"beautiful\", \"amazing\", \"flattering\", \"soft\", \"chic\", \"adorable\", \n",
    "        \"gorgeous\", \"high-quality\", \"great\", \"favorite\", \"versatile\", \"recommended\"\n",
    "    ]\n",
    "    negative_words = [\n",
    "        \"uncomfortable\", \"tight\", \"loose\", \"cheap\", \"poor\", \"bad\", \"ill-fitting\", \n",
    "        \"hate\", \"dislike\", \"ugly\", \"stiff\", \"scratchy\", \"itchy\", \"heavy\", \n",
    "        \"unflattering\", \"low-quality\", \"awkward\", \"disappointing\", \"not fit\"\n",
    "    ]\n",
    "    positive_count = sum(d['review_text'].lower().count(word) + d['review_summary'].lower().count(word) for word in positive_words)\n",
    "    negative_count = sum(d['review_text'].lower().count(word) + d['review_summary'].lower().count(word) for word in negative_words)\n",
    "    return [1, len(d['review_text']), \n",
    "            len(d['review_summary']), \n",
    "            d['review_text'].count('!') + d['review_summary'].count('!'),\n",
    "            int(d['review_date'][-4:]),\n",
    "            age_size_interaction,\n",
    "            sentiment_count,\n",
    "            unique_words,\n",
    "            contains_recommend,\n",
    "            positive_count,\n",
    "            negative_count\n",
    "            ] \n",
    "Xtrain = [feat(d) for d in dataTrain]\n",
    "Xtest = [feat(d) for d in dataTest]\n",
    "mod = linear_model.LinearRegression(fit_intercept=False)\n",
    "mod.fit(Xtrain,ytrain)\n",
    "predictions = mod.predict(Xtest)\n",
    "mse = MSE(ytest, predictions)\n",
    "mse"
   ]
  },
  {
   "cell_type": "code",
   "execution_count": 35,
   "metadata": {},
   "outputs": [
    {
     "data": {
      "text/plain": [
       "1.819858732405135"
      ]
     },
     "execution_count": 35,
     "metadata": {},
     "output_type": "execute_result"
    }
   ],
   "source": [
    "rented_for_categories = ['date', 'party', 'formal affair', 'everyday', 'other', 'wedding', 'vacation', 'party: cocktail', 'work']\n",
    "def feat(d):\n",
    "    age = int(d['age'])\n",
    "    size = int(d['size'])\n",
    "    age_size_interaction = age * size\n",
    "    sentiment_words = ['love', 'hate', 'perfect', 'amazing', 'awful', 'good', 'bad']\n",
    "    sentiment_count = sum(d['review_text'].lower().count(word) + d['review_summary'].lower().count(word) for word in sentiment_words)\n",
    "    unique_words = len(set(re.findall(r'\\w+', d['review_text'] + \" \" + d['review_summary'])))\n",
    "    contains_recommend = 1 if 'recommend' in d['review_text'].lower() or 'recommend' in d['review_summary'].lower() else 0\n",
    "    rented_for_encoded = [1 if d.get('rented for', '').lower() == category else 0 for category in rented_for_categories]\n",
    "\n",
    "    return [1, len(d['review_text']), \n",
    "            len(d['review_summary']), \n",
    "            d['review_text'].count('!') + d['review_summary'].count('!'),\n",
    "            int(d['review_date'][-4:]),\n",
    "            age_size_interaction,\n",
    "            sentiment_count,\n",
    "            unique_words,\n",
    "            contains_recommend\n",
    "            ] + rented_for_encoded\n",
    "\n",
    "Xtrain = [feat(d) for d in dataTrain]\n",
    "Xtest = [feat(d) for d in dataTest]\n",
    "mod = linear_model.LinearRegression(fit_intercept=False)\n",
    "mod.fit(Xtrain,ytrain)\n",
    "predictions = mod.predict(Xtest)\n",
    "mse = MSE(ytest, predictions)\n",
    "mse"
   ]
  },
  {
   "cell_type": "code",
   "execution_count": 36,
   "metadata": {},
   "outputs": [
    {
     "data": {
      "text/plain": [
       "1.7520070352514556"
      ]
     },
     "execution_count": 36,
     "metadata": {},
     "output_type": "execute_result"
    }
   ],
   "source": [
    "rented_for_categories = ['date', 'party', 'formal affair', 'everyday', 'other', 'wedding', 'vacation', 'party: cocktail', 'work']\n",
    "def feat(d):\n",
    "    age = int(d['age'])\n",
    "    size = int(d['size'])\n",
    "    age_size_interaction = age * size\n",
    "    sentiment_words = ['love', 'hate', 'perfect', 'amazing', 'awful', 'good', 'bad']\n",
    "    sentiment_count = sum(d['review_text'].lower().count(word) + d['review_summary'].lower().count(word) for word in sentiment_words)\n",
    "    unique_words = len(set(re.findall(r'\\w+', d['review_text'] + \" \" + d['review_summary'])))\n",
    "    contains_recommend = 1 if 'recommend' in d['review_text'].lower() or 'recommend' in d['review_summary'].lower() else 0\n",
    "    rented_for_encoded = [1 if d.get('rented for', '').lower() == category else 0 for category in rented_for_categories]\n",
    "    positive_words = [\n",
    "        \"comfortable\", \"perfect\", \"stylish\", \"fashionable\", \"elegant\", \"cute\", \"fit\",\n",
    "        \"love\", \"beautiful\", \"amazing\", \"flattering\", \"soft\", \"chic\", \"adorable\", \n",
    "        \"gorgeous\", \"high-quality\", \"great\", \"favorite\", \"versatile\", \"recommended\"\n",
    "    ]\n",
    "    negative_words = [\n",
    "        \"uncomfortable\", \"tight\", \"loose\", \"cheap\", \"poor\", \"bad\", \"ill-fitting\", \n",
    "        \"hate\", \"dislike\", \"ugly\", \"stiff\", \"scratchy\", \"itchy\", \"heavy\", \n",
    "        \"unflattering\", \"low-quality\", \"awkward\", \"disappointing\", \"not fit\"\n",
    "    ]\n",
    "    positive_count = sum(d['review_text'].lower().count(word) + d['review_summary'].lower().count(word) for word in positive_words)\n",
    "    negative_count = sum(d['review_text'].lower().count(word) + d['review_summary'].lower().count(word) for word in negative_words)\n",
    "\n",
    "    return [1, len(d['review_text']), \n",
    "            len(d['review_summary']), \n",
    "            d['review_text'].count('!') + d['review_summary'].count('!'),\n",
    "            int(d['review_date'][-4:]),\n",
    "            age_size_interaction,\n",
    "            sentiment_count,\n",
    "            unique_words,\n",
    "            contains_recommend,\n",
    "            positive_count,\n",
    "            negative_count\n",
    "            ] + rented_for_encoded\n",
    "\n",
    "Xtrain = [feat(d) for d in dataTrain]\n",
    "Xtest = [feat(d) for d in dataTest]\n",
    "mod = linear_model.LinearRegression(fit_intercept=False)\n",
    "mod.fit(Xtrain,ytrain)\n",
    "predictions = mod.predict(Xtest)\n",
    "mse = MSE(ytest, predictions)\n",
    "mse"
   ]
  },
  {
   "cell_type": "code",
   "execution_count": 37,
   "metadata": {},
   "outputs": [],
   "source": [
    "# # Convert to a DataFrame\n",
    "# df = pd.DataFrame(svd_data, columns=['user_id', 'item_id', 'rating'])\n",
    "\n",
    "# # Step 2: Load data into surprise's Dataset format\n",
    "# reader = Reader(rating_scale=(1, 10))  # Assuming ratings are on a scale of 1 to 10\n",
    "# model_data = Dataset.load_from_df(df[['user_id', 'item_id', 'rating']], reader)\n",
    "# trainset, temp_set = train_test_split(model_data, test_size=0.4)\n",
    "\n",
    "# validation_set, test_set = train_test_split(temp_set, test_size=0.5)"
   ]
  },
  {
   "cell_type": "code",
   "execution_count": 38,
   "metadata": {},
   "outputs": [
    {
     "name": "stdout",
     "output_type": "stream",
     "text": [
      "Testing parameters: {'n_factors': 1, 'n_epochs': 20, 'lr_all': 0.005, 'reg_all': 0.02}\n",
      "Validation MSE: 1.9383679124388509\n",
      "Testing parameters: {'n_factors': 5, 'n_epochs': 20, 'lr_all': 0.005, 'reg_all': 0.02}\n",
      "Validation MSE: 1.9395895370302465\n",
      "Testing parameters: {'n_factors': 10, 'n_epochs': 20, 'lr_all': 0.005, 'reg_all': 0.02}\n",
      "Validation MSE: 1.9418910307830286\n",
      "Testing parameters: {'n_factors': 20, 'n_epochs': 20, 'lr_all': 0.005, 'reg_all': 0.02}\n",
      "Validation MSE: 1.9438374320605405\n",
      "Testing parameters: {'n_factors': 100, 'n_epochs': 20, 'lr_all': 0.005, 'reg_all': 0.02}\n",
      "Validation MSE: 1.9537934896092721\n",
      "Testing parameters: {'n_factors': 1, 'n_epochs': 20, 'lr_all': 0.005, 'reg_all': 0.02}\n",
      "Validation MSE: 1.9394530281058857\n",
      "Testing parameters: {'n_factors': 2, 'n_epochs': 20, 'lr_all': 0.005, 'reg_all': 0.02}\n",
      "Validation MSE: 1.9393964578465621\n",
      "Testing parameters: {'n_factors': 3, 'n_epochs': 20, 'lr_all': 0.005, 'reg_all': 0.02}\n",
      "Validation MSE: 1.9388948288975265\n",
      "Testing parameters: {'n_factors': 4, 'n_epochs': 20, 'lr_all': 0.005, 'reg_all': 0.02}\n",
      "Validation MSE: 1.9402555228521374\n",
      "Testing parameters: {'n_factors': 5, 'n_epochs': 20, 'lr_all': 0.005, 'reg_all': 0.02}\n",
      "Validation MSE: 1.9396448479383372\n",
      "Testing parameters: {'n_factors': 1, 'n_epochs': 20, 'lr_all': 0.005, 'reg_all': 0.02}\n",
      "Validation MSE: 1.9384687005296064\n",
      "Testing parameters: {'n_factors': 1, 'n_epochs': 30, 'lr_all': 0.005, 'reg_all': 0.02}\n",
      "Validation MSE: 1.9527422647101267\n",
      "Testing parameters: {'n_factors': 1, 'n_epochs': 40, 'lr_all': 0.005, 'reg_all': 0.02}\n",
      "Validation MSE: 1.9670840136707632\n",
      "Testing parameters: {'n_factors': 1, 'n_epochs': 50, 'lr_all': 0.005, 'reg_all': 0.02}\n",
      "Validation MSE: 1.9914978323354304\n",
      "Testing parameters: {'n_factors': 1, 'n_epochs': 60, 'lr_all': 0.005, 'reg_all': 0.02}\n",
      "Validation MSE: 2.0120083475639845\n",
      "Testing parameters: {'n_factors': 1, 'n_epochs': 1, 'lr_all': 0.005, 'reg_all': 0.02}\n",
      "Validation MSE: 1.9977512834513458\n",
      "Testing parameters: {'n_factors': 1, 'n_epochs': 5, 'lr_all': 0.005, 'reg_all': 0.02}\n",
      "Validation MSE: 1.951487893378706\n",
      "Testing parameters: {'n_factors': 1, 'n_epochs': 10, 'lr_all': 0.005, 'reg_all': 0.02}\n",
      "Validation MSE: 1.9382445295575756\n",
      "Testing parameters: {'n_factors': 1, 'n_epochs': 15, 'lr_all': 0.005, 'reg_all': 0.02}\n",
      "Validation MSE: 1.9361078674189347\n",
      "Testing parameters: {'n_factors': 1, 'n_epochs': 20, 'lr_all': 0.005, 'reg_all': 0.02}\n",
      "Validation MSE: 1.9384840163842434\n",
      "\n",
      "Best Parameters on Validation Set:\n",
      "{'n_factors': 1, 'n_epochs': 15, 'lr_all': 0.005, 'reg_all': 0.02}\n",
      "Test MSE with Best Parameters: 1.9177724617966976\n"
     ]
    }
   ],
   "source": [
    "from sklearn.model_selection import train_test_split as sklearn_train_test_split\n",
    "df = pd.DataFrame(svd_data, columns=['user_id', 'item_id', 'rating'])\n",
    "train_df, temp_df = sklearn_train_test_split(df, test_size=0.4)\n",
    "validation_df, test_df = sklearn_train_test_split(temp_df, test_size=0.5)\n",
    "reader = Reader(rating_scale=(0, 10))\n",
    "trainset = Dataset.load_from_df(train_df[['user_id', 'item_id', 'rating']], reader).build_full_trainset()\n",
    "validation_data = [\n",
    "    (row['user_id'], row['item_id'], row['rating']) for _, row in validation_df.iterrows()\n",
    "]\n",
    "test_data = [\n",
    "    (row['user_id'], row['item_id'], row['rating']) for _, row in test_df.iterrows()\n",
    "]\n",
    "param_sets = [\n",
    "    {'n_factors': 1, 'n_epochs': 20, 'lr_all': 0.005, 'reg_all': 0.02},\n",
    "    {'n_factors': 5, 'n_epochs': 20, 'lr_all': 0.005, 'reg_all': 0.02},\n",
    "    {'n_factors': 10, 'n_epochs': 20, 'lr_all': 0.005, 'reg_all': 0.02},\n",
    "    {'n_factors': 20, 'n_epochs': 20, 'lr_all': 0.005, 'reg_all': 0.02},\n",
    "    {'n_factors': 100, 'n_epochs': 20, 'lr_all': 0.005, 'reg_all': 0.02},\n",
    "\n",
    "    {'n_factors': 1, 'n_epochs': 20, 'lr_all': 0.005, 'reg_all': 0.02},\n",
    "    {'n_factors': 2, 'n_epochs': 20, 'lr_all': 0.005, 'reg_all': 0.02},\n",
    "    {'n_factors': 3, 'n_epochs': 20, 'lr_all': 0.005, 'reg_all': 0.02},\n",
    "    {'n_factors': 4, 'n_epochs': 20, 'lr_all': 0.005, 'reg_all': 0.02},\n",
    "    {'n_factors': 5, 'n_epochs': 20, 'lr_all': 0.005, 'reg_all': 0.02},\n",
    "\n",
    "    {'n_factors': 1, 'n_epochs': 20, 'lr_all': 0.005, 'reg_all': 0.02},\n",
    "    {'n_factors': 1, 'n_epochs': 30, 'lr_all': 0.005, 'reg_all': 0.02},\n",
    "    {'n_factors': 1, 'n_epochs': 40, 'lr_all': 0.005, 'reg_all': 0.02},\n",
    "    {'n_factors': 1, 'n_epochs': 50, 'lr_all': 0.005, 'reg_all': 0.02},\n",
    "    {'n_factors': 1, 'n_epochs': 60, 'lr_all': 0.005, 'reg_all': 0.02},\n",
    "\n",
    "    {'n_factors': 1, 'n_epochs': 1, 'lr_all': 0.005, 'reg_all': 0.02},\n",
    "    {'n_factors': 1, 'n_epochs': 5, 'lr_all': 0.005, 'reg_all': 0.02},\n",
    "    {'n_factors': 1, 'n_epochs': 10, 'lr_all': 0.005, 'reg_all': 0.02},\n",
    "    {'n_factors': 1, 'n_epochs': 15, 'lr_all': 0.005, 'reg_all': 0.02},\n",
    "    {'n_factors': 1, 'n_epochs': 20, 'lr_all': 0.005, 'reg_all': 0.02},\n",
    "]\n",
    "results = []\n",
    "for params in param_sets:\n",
    "    print(f\"Testing parameters: {params}\")\n",
    "    model = SVD(**params)\n",
    "    model.fit(trainset)\n",
    "    predictions = model.test(validation_data)\n",
    "    \n",
    "    true_ratings = [pred.r_ui for pred in predictions]\n",
    "    predicted_ratings = [pred.est for pred in predictions]\n",
    "    mse = MSE(true_ratings, predicted_ratings)\n",
    "    print(f\"Validation MSE: {mse}\")\n",
    "    results.append({'params': params, 'mse': mse})\n",
    "\n",
    "results = sorted(results, key=lambda x: x['mse'])\n",
    "best_params = results[0]['params']\n",
    "print(\"\\nBest Parameters on Validation Set:\")\n",
    "print(best_params)\n",
    "\n",
    "final_model = SVD(**best_params)\n",
    "final_model.fit(trainset)\n",
    "\n",
    "test_predictions = final_model.test(test_data)\n",
    "true_ratings_test = [pred.r_ui for pred in test_predictions]\n",
    "predicted_ratings_test = [pred.est for pred in test_predictions]\n",
    "test_mse = MSE(true_ratings_test, predicted_ratings_test)\n",
    "print(f\"Test MSE with Best Parameters: {test_mse}\")\n"
   ]
  },
  {
   "cell_type": "code",
   "execution_count": 39,
   "metadata": {},
   "outputs": [],
   "source": [
    "# model = SVD()\n",
    "# trainset = model_data.build_full_trainset()\n",
    "# model.fit(trainset)"
   ]
  },
  {
   "cell_type": "code",
   "execution_count": 40,
   "metadata": {},
   "outputs": [],
   "source": [
    "# predictions = model.test(testset)\n",
    "\n",
    "# true_ratings = [pred.r_ui for pred in predictions]\n",
    "# predicted_ratings = [pred.est for pred in predictions]\n",
    "\n",
    "# mse = MSE(true_ratings, predicted_ratings)\n",
    "# mse"
   ]
  },
  {
   "cell_type": "code",
   "execution_count": 41,
   "metadata": {},
   "outputs": [],
   "source": [
    "\n",
    "# # Define a list of parameter sets to test\n",
    "# param_sets = [\n",
    "#     {'n_factors': 50, 'n_epochs': 20, 'lr_all': 0.005, 'reg_all': 0.02},\n",
    "#     {'n_factors': 100, 'n_epochs': 20, 'lr_all': 0.005, 'reg_all': 0.02},\n",
    "#     {'n_factors': 150, 'n_epochs': 30, 'lr_all': 0.005, 'reg_all': 0.02},\n",
    "#     {'n_factors': 200, 'n_epochs': 40, 'lr_all': 0.01, 'reg_all': 0.02},\n",
    "#     {'n_factors': 100, 'n_epochs': 50, 'lr_all': 0.01, 'reg_all': 0.05},\n",
    "#     {'n_factors': 200, 'n_epochs': 20, 'lr_all': 0.005, 'reg_all': 0.02},  # Example from your snippet\n",
    "# ]\n",
    "\n",
    "# # Initialize a dictionary to store results\n",
    "# results = []\n",
    "\n",
    "# # Iterate through each parameter set\n",
    "# for params in param_sets:\n",
    "#     print(f\"Testing parameters: {params}\")\n",
    "#     # Create and train the model\n",
    "#     model = SVD(**params)\n",
    "#     trainset = model_data.build_full_trainset()\n",
    "#     model.fit(trainset)\n",
    "    \n",
    "#     # Make predictions on the test set\n",
    "#     predictions = model.test(testset)\n",
    "    \n",
    "#     # Extract true and predicted ratings\n",
    "#     true_ratings = [pred.r_ui for pred in predictions]\n",
    "#     predicted_ratings = [pred.est for pred in predictions]\n",
    "    \n",
    "#     # Calculate MSE\n",
    "#     mse = MSE(true_ratings, predicted_ratings)\n",
    "#     print(f\"MSE: {mse}\")\n",
    "    \n",
    "#     # Store the results\n",
    "#     results.append({'params': params, 'mse': mse})\n",
    "\n",
    "# # Sort results by MSE\n",
    "# results = sorted(results, key=lambda x: x['mse'])\n",
    "\n",
    "# # Display the best parameters\n",
    "# print(\"\\nBest Parameters:\")\n",
    "# print(results[0])\n"
   ]
  },
  {
   "cell_type": "code",
   "execution_count": 42,
   "metadata": {},
   "outputs": [],
   "source": [
    "# model = SVD(**{'n_factors': 100, 'n_epochs': 20, 'lr_all': 0.005, 'reg_all': 0.02})\n",
    "# trainset = model_data.build_full_trainset()\n",
    "# model.fit(trainset)\n",
    "\n",
    "# predictions = model.test(testset)\n",
    "\n",
    "# true_ratings = [pred.r_ui for pred in predictions]\n",
    "# predicted_ratings = [pred.est for pred in predictions]\n",
    "\n",
    "# mse = MSE(true_ratings, predicted_ratings)\n",
    "# mse"
   ]
  },
  {
   "cell_type": "code",
   "execution_count": null,
   "metadata": {},
   "outputs": [],
   "source": []
  }
 ],
 "metadata": {
  "kernelspec": {
   "display_name": "Python 3",
   "language": "python",
   "name": "python3"
  },
  "language_info": {
   "codemirror_mode": {
    "name": "ipython",
    "version": 3
   },
   "file_extension": ".py",
   "mimetype": "text/x-python",
   "name": "python",
   "nbconvert_exporter": "python",
   "pygments_lexer": "ipython3",
   "version": "3.12.3"
  }
 },
 "nbformat": 4,
 "nbformat_minor": 2
}
