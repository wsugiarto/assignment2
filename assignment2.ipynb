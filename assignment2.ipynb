{
 "cells": [
  {
   "cell_type": "code",
   "execution_count": 1,
   "metadata": {},
   "outputs": [],
   "source": [
    "import gzip\n",
    "from collections import defaultdict\n",
    "import math\n",
    "import scipy.optimize\n",
    "from sklearn import svm\n",
    "import numpy as np\n",
    "import string\n",
    "import random\n",
    "import string\n",
    "from sklearn import linear_model\n",
    "import pandas as pd\n",
    "from sklearn.metrics import accuracy_score, mean_squared_error\n",
    "import json\n",
    "import ast"
   ]
  },
  {
   "cell_type": "code",
   "execution_count": 2,
   "metadata": {},
   "outputs": [],
   "source": [
    "# data_list = []\n",
    "\n",
    "# # Path to the file\n",
    "# file_path = 'goodreads_reviews_children.json.gz'\n",
    "\n",
    "# with gzip.open(file_path, 'rt', encoding='utf-8') as file:\n",
    "#     for line in file:\n",
    "#         try:\n",
    "#             # Safely evaluate each line as a dictionary\n",
    "#             data_list.append(ast.literal_eval(line.strip()))\n",
    "#         except Exception as e:\n",
    "#             print(f\"Error processing line: {line}\\n{e}\")\n",
    "\n",
    "# # Display the first 5 entries to verify\n"
   ]
  },
  {
   "cell_type": "code",
   "execution_count": 3,
   "metadata": {},
   "outputs": [],
   "source": [
    "data = []\n",
    "file_path = 'renttherunway_final_data.json.gz'\n",
    "with gzip.open(file_path, 'rt', encoding='utf-8') as file:\n",
    "    for line in file:\n",
    "        try:\n",
    "            # Safely evaluate each line as a dictionary\n",
    "            data.append(json.loads(line.strip()))\n",
    "        except Exception as e:\n",
    "            print(f\"Error processing line: {line}\\n{e}\")\n",
    "\n"
   ]
  },
  {
   "cell_type": "code",
   "execution_count": 4,
   "metadata": {},
   "outputs": [
    {
     "data": {
      "text/plain": [
       "{'fit': 'fit',\n",
       " 'user_id': '420272',\n",
       " 'bust size': '34d',\n",
       " 'item_id': '2260466',\n",
       " 'weight': '137lbs',\n",
       " 'rating': '10',\n",
       " 'rented for': 'vacation',\n",
       " 'review_text': \"An adorable romper! Belt and zipper were a little hard to navigate in a full day of wear/bathroom use, but that's to be expected. Wish it had pockets, but other than that-- absolutely perfect! I got a million compliments.\",\n",
       " 'body type': 'hourglass',\n",
       " 'review_summary': 'So many compliments!',\n",
       " 'category': 'romper',\n",
       " 'height': '5\\' 8\"',\n",
       " 'size': 14,\n",
       " 'age': '28',\n",
       " 'review_date': 'April 20, 2016'}"
      ]
     },
     "execution_count": 4,
     "metadata": {},
     "output_type": "execute_result"
    }
   ],
   "source": [
    "data[0]"
   ]
  },
  {
   "cell_type": "code",
   "execution_count": 12,
   "metadata": {},
   "outputs": [],
   "source": [
    "data = [\n",
    "    entry for entry in data\n",
    "    if all(field in entry and entry[field] for field in ['rating', 'review_text', 'review_summary', 'size', 'age', 'review_date'])\n",
    "]"
   ]
  },
  {
   "cell_type": "code",
   "execution_count": 18,
   "metadata": {},
   "outputs": [
    {
     "data": {
      "text/plain": [
       "[{'fit': 'fit',\n",
       "  'user_id': '420272',\n",
       "  'bust size': '34d',\n",
       "  'item_id': '2260466',\n",
       "  'weight': '137lbs',\n",
       "  'rating': '10',\n",
       "  'rented for': 'vacation',\n",
       "  'review_text': \"An adorable romper! Belt and zipper were a little hard to navigate in a full day of wear/bathroom use, but that's to be expected. Wish it had pockets, but other than that-- absolutely perfect! I got a million compliments.\",\n",
       "  'body type': 'hourglass',\n",
       "  'review_summary': 'So many compliments!',\n",
       "  'category': 'romper',\n",
       "  'height': '5\\' 8\"',\n",
       "  'size': 14,\n",
       "  'age': '28',\n",
       "  'review_date': 'April 20, 2016'},\n",
       " {'fit': 'fit',\n",
       "  'user_id': '273551',\n",
       "  'bust size': '34b',\n",
       "  'item_id': '153475',\n",
       "  'weight': '132lbs',\n",
       "  'rating': '10',\n",
       "  'rented for': 'other',\n",
       "  'review_text': 'I rented this dress for a photo shoot. The theme was \"Hollywood Glam and Big Beautiful Hats\". The dress was very comfortable and easy to move around in. It is definitely on my list to rent again for another formal event. ',\n",
       "  'body type': 'straight & narrow',\n",
       "  'review_summary': 'I felt so glamourous!!!',\n",
       "  'category': 'gown',\n",
       "  'height': '5\\' 6\"',\n",
       "  'size': 12,\n",
       "  'age': '36',\n",
       "  'review_date': 'June 18, 2013'},\n",
       " {'fit': 'fit',\n",
       "  'age': '116',\n",
       "  'size': 4,\n",
       "  'item_id': '1063761',\n",
       "  'rating': '10',\n",
       "  'rented for': 'party',\n",
       "  'review_text': 'This hugged in all the right places! It was a perfect dress for my event and I received so many compliments on it. Not to mention customer service was great getting this to me in less than 24 hours!',\n",
       "  'review_summary': 'It was a great time to celebrate the (almost) completion of my first year of law school.',\n",
       "  'category': 'sheath',\n",
       "  'height': '5\\' 4\"',\n",
       "  'user_id': '360448',\n",
       "  'review_date': 'December 14, 2015'},\n",
       " {'fit': 'fit',\n",
       "  'user_id': '909926',\n",
       "  'bust size': '34c',\n",
       "  'item_id': '126335',\n",
       "  'weight': '135lbs',\n",
       "  'rating': '8',\n",
       "  'rented for': 'formal affair',\n",
       "  'review_text': \"I rented this for my company's black tie awards banquet.  I liked that this dress was short but was a little fancier with the sequins. (I generally don't care for long dresses.)  I would describe the color as more rose gold than yellow gold.  I have blonde hair and fair skin, and the color was very flattering.  This is a very forgiving dress! It's form fitting without making you feel like you're squeezed into it.  I would rent this one again.  Highly recommend!\",\n",
       "  'body type': 'pear',\n",
       "  'review_summary': 'Dress arrived on time and in perfect condition. ',\n",
       "  'category': 'dress',\n",
       "  'height': '5\\' 5\"',\n",
       "  'size': 8,\n",
       "  'age': '34',\n",
       "  'review_date': 'February 12, 2014'},\n",
       " {'fit': 'fit',\n",
       "  'user_id': '151944',\n",
       "  'bust size': '34b',\n",
       "  'item_id': '616682',\n",
       "  'weight': '145lbs',\n",
       "  'rating': '10',\n",
       "  'rented for': 'wedding',\n",
       "  'review_text': \"I have always been petite in my upper body and extremely athletic. \\nI'm 5'9 and typically am a size 4,6,8 due to the fact I had a smaller upper frame and 34B cup. Depends what fabric were talking about too! \\nHowever, because I have been lifting weights my back has grown (odd to add- but figured I'd say it knowing other people lift weights) My lat area is so wide that I was suffocating in a size 6. If I wasn't as muscular in my back I would've been fine. I would recommend to go up a size if you are into lifting weights and very broad in your upper body. \",\n",
       "  'body type': 'athletic',\n",
       "  'review_summary': 'Was in love with this dress !!!',\n",
       "  'category': 'gown',\n",
       "  'height': '5\\' 9\"',\n",
       "  'size': 12,\n",
       "  'age': '27',\n",
       "  'review_date': 'September 26, 2016'}]"
      ]
     },
     "execution_count": 18,
     "metadata": {},
     "output_type": "execute_result"
    }
   ],
   "source": [
    "len(data)\n",
    "data[:5]"
   ]
  },
  {
   "cell_type": "code",
   "execution_count": 24,
   "metadata": {},
   "outputs": [],
   "source": [
    "def MSE(y, ypred):\n",
    "    diffs = [(a-b)**2 for (a,b) in zip(y,ypred)]\n",
    "    return sum(diffs) / len(diffs)"
   ]
  },
  {
   "cell_type": "code",
   "execution_count": 25,
   "metadata": {},
   "outputs": [],
   "source": [
    "def feat1(d):\n",
    "    return [1, len(d['review_text'])] "
   ]
  },
  {
   "cell_type": "code",
   "execution_count": 26,
   "metadata": {},
   "outputs": [],
   "source": [
    "\n",
    "dataTrain = data[:int(len(data)*0.8)]\n",
    "dataTest = data[int(len(data)*0.8):]"
   ]
  },
  {
   "cell_type": "code",
   "execution_count": 27,
   "metadata": {},
   "outputs": [],
   "source": [
    "Xtrain = [feat1(d) for d in dataTrain]\n",
    "ytrain = [int(d['rating']) for d in dataTrain]\n",
    "Xtest = [feat1(d) for d in dataTest]\n",
    "ytest = [int(d['rating']) for d in dataTest]"
   ]
  },
  {
   "cell_type": "code",
   "execution_count": 28,
   "metadata": {},
   "outputs": [
    {
     "name": "stdout",
     "output_type": "stream",
     "text": [
      "{'6', '8', '2', '10', '4'}\n"
     ]
    }
   ],
   "source": [
    "max(ytest)\n",
    "min(ytest)\n",
    "unique_ratings = set(entry['rating'] for entry in data if 'rating' in entry)\n",
    "\n",
    "# Display the unique rating values\n",
    "print(unique_ratings)"
   ]
  },
  {
   "cell_type": "code",
   "execution_count": 30,
   "metadata": {},
   "outputs": [
    {
     "data": {
      "text/plain": [
       "2.0509410951628015"
      ]
     },
     "execution_count": 30,
     "metadata": {},
     "output_type": "execute_result"
    }
   ],
   "source": [
    "mod = linear_model.LinearRegression(fit_intercept=False)\n",
    "mod.fit(Xtrain,ytrain)\n",
    "predictions = mod.predict(Xtest)\n",
    "mse = MSE(ytest, predictions)\n",
    "mse\n"
   ]
  },
  {
   "cell_type": "code",
   "execution_count": null,
   "metadata": {},
   "outputs": [],
   "source": [
    "def feat2(d):\n",
    "    return [1, len(d['review_text']), len(d['review_summary'])] "
   ]
  },
  {
   "cell_type": "code",
   "execution_count": 32,
   "metadata": {},
   "outputs": [
    {
     "data": {
      "text/plain": [
       "2.043165781399794"
      ]
     },
     "execution_count": 32,
     "metadata": {},
     "output_type": "execute_result"
    }
   ],
   "source": [
    "Xtrain = [feat2(d) for d in dataTrain]\n",
    "Xtest = [feat2(d) for d in dataTest]\n",
    "mod = linear_model.LinearRegression(fit_intercept=False)\n",
    "mod.fit(Xtrain,ytrain)\n",
    "predictions = mod.predict(Xtest)\n",
    "mse = MSE(ytest, predictions)\n",
    "mse\n"
   ]
  },
  {
   "cell_type": "code",
   "execution_count": 34,
   "metadata": {},
   "outputs": [],
   "source": [
    "def feat3(d):\n",
    "    return [1, len(d['review_text']), len(d['review_summary']), d['review_text'].count('!') + d['review_summary'].count('!')] "
   ]
  },
  {
   "cell_type": "code",
   "execution_count": 35,
   "metadata": {},
   "outputs": [
    {
     "data": {
      "text/plain": [
       "1.9290804311924041"
      ]
     },
     "execution_count": 35,
     "metadata": {},
     "output_type": "execute_result"
    }
   ],
   "source": [
    "Xtrain = [feat3(d) for d in dataTrain]\n",
    "Xtest = [feat3(d) for d in dataTest]\n",
    "mod = linear_model.LinearRegression(fit_intercept=False)\n",
    "mod.fit(Xtrain,ytrain)\n",
    "predictions = mod.predict(Xtest)\n",
    "mse = MSE(ytest, predictions)\n",
    "mse"
   ]
  },
  {
   "cell_type": "code",
   "execution_count": 36,
   "metadata": {},
   "outputs": [],
   "source": [
    "def feat4(d):\n",
    "    return [1, d['review_text'].count('!') + d['review_summary'].count('!')] "
   ]
  },
  {
   "cell_type": "code",
   "execution_count": 37,
   "metadata": {},
   "outputs": [
    {
     "data": {
      "text/plain": [
       "1.948420335125565"
      ]
     },
     "execution_count": 37,
     "metadata": {},
     "output_type": "execute_result"
    }
   ],
   "source": [
    "Xtrain = [feat4(d) for d in dataTrain]\n",
    "Xtest = [feat4(d) for d in dataTest]\n",
    "mod = linear_model.LinearRegression(fit_intercept=False)\n",
    "mod.fit(Xtrain,ytrain)\n",
    "predictions = mod.predict(Xtest)\n",
    "mse = MSE(ytest, predictions)\n",
    "mse"
   ]
  },
  {
   "cell_type": "code",
   "execution_count": null,
   "metadata": {},
   "outputs": [],
   "source": []
  }
 ],
 "metadata": {
  "kernelspec": {
   "display_name": "Python 3",
   "language": "python",
   "name": "python3"
  },
  "language_info": {
   "codemirror_mode": {
    "name": "ipython",
    "version": 3
   },
   "file_extension": ".py",
   "mimetype": "text/x-python",
   "name": "python",
   "nbconvert_exporter": "python",
   "pygments_lexer": "ipython3",
   "version": "3.12.3"
  }
 },
 "nbformat": 4,
 "nbformat_minor": 2
}
